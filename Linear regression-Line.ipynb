{
 "cells": [
  {
   "cell_type": "code",
   "execution_count": 18,
   "metadata": {
    "collapsed": true
   },
   "outputs": [],
   "source": [
    "import pandas as pd\n",
    "from sklearn import linear_model\n",
    "#scikit learn does everything for us\n",
    "import numpy as np\n",
    "import matplotlib.pyplot as plt"
   ]
  },
  {
   "cell_type": "code",
   "execution_count": 19,
   "metadata": {},
   "outputs": [],
   "source": [
    "#Gradient descent\n",
    "dataset=pd.read_csv(\"C:\\\\Users\\\\admin\\\\Desktop\\\\Python\\\\weight_data.csv\")\n",
    "npMatrix=np.matrix(dataset)\n",
    "X,Y=npMatrix[:,0],npMatrix[:,1]"
   ]
  },
  {
   "cell_type": "code",
   "execution_count": 23,
   "metadata": {},
   "outputs": [
    {
     "name": "stdout",
     "output_type": "stream",
     "text": [
      "Coefficients: This is the slope 'b'\n",
      " [ 1.28735737]\n",
      "Coefficients: This is the intercept 'a'\n",
      " [ 9.90860619]\n",
      "H(x)= [ 9.90860619] + [ 1.28735737] *x\n"
     ]
    }
   ],
   "source": [
    "regression=linear_model.LinearRegression()\n",
    "regression.fit(X,Y)\n",
    "a=regression.intercept_\n",
    "b=regression.coef_[0]\n",
    "print(\"Coefficients: This is the slope 'b'\\n\",b)\n",
    "print(\"Coefficients: This is the intercept 'a'\\n\",a)\n",
    "print(\"H(x)=\",a,\"+\",b,\"*x\")"
   ]
  },
  {
   "cell_type": "code",
   "execution_count": null,
   "metadata": {
    "collapsed": true
   },
   "outputs": [],
   "source": []
  }
 ],
 "metadata": {
  "kernelspec": {
   "display_name": "Python 3",
   "language": "python",
   "name": "python3"
  },
  "language_info": {
   "codemirror_mode": {
    "name": "ipython",
    "version": 3
   },
   "file_extension": ".py",
   "mimetype": "text/x-python",
   "name": "python",
   "nbconvert_exporter": "python",
   "pygments_lexer": "ipython3",
   "version": "3.6.1"
  }
 },
 "nbformat": 4,
 "nbformat_minor": 2
}
